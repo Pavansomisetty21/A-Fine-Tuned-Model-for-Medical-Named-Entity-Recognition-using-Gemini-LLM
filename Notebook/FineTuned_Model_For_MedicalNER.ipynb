{
  "nbformat": 4,
  "nbformat_minor": 0,
  "metadata": {
    "colab": {
      "provenance": []
    },
    "kernelspec": {
      "name": "python3",
      "display_name": "Python 3"
    },
    "language_info": {
      "name": "python"
    }
  },
  "cells": [
    {
      "cell_type": "markdown",
      "source": [
        "# FineTuned Model on MedicalNER"
      ],
      "metadata": {
        "id": "ySeVO_XcwV41"
      }
    },
    {
      "cell_type": "markdown",
      "source": [
        "#### It was Finetuned by **Pavan Somisetty** with own ,well prepared dataset on Medical Name Entities\n",
        "\n",
        "This notebook developed by **Pavan Somisetty**. You can connect with me on:\n",
        "\n",
        "- [LinkedIn](https://www.linkedin.com/in/pavan-somisetty-1930a6233/)\n",
        "- [GitHub](https://github.com/Pavansomisetty21)\n",
        "- Email: pavansomisetty21@gmail.com"
      ],
      "metadata": {
        "id": "ipwW63ob0f1j"
      }
    },
    {
      "cell_type": "code",
      "source": [
        "from google.colab import auth\n",
        "auth.authenticate_user()\n",
        "\n",
        "print('Authenticated')\n",
        "\n"
      ],
      "metadata": {
        "id": "QwXQL4pQPHFh",
        "colab": {
          "base_uri": "https://localhost:8080/"
        },
        "outputId": "44c9730b-bc6c-4c48-d14f-2d1d5f98b8c3"
      },
      "execution_count": null,
      "outputs": [
        {
          "output_type": "stream",
          "name": "stdout",
          "text": [
            "Authenticated\n"
          ]
        }
      ]
    },
    {
      "cell_type": "code",
      "source": [
        "import google.generativeai as genai\n",
        "apikey = \"api key\"\n",
        "\n",
        "\n",
        "genai.configure(api_key=apikey)"
      ],
      "metadata": {
        "id": "pJyYsNh0RKgV"
      },
      "execution_count": null,
      "outputs": []
    },
    {
      "cell_type": "code",
      "source": [
        "import google.generativeai as genai\n",
        "for i, m in zip(range(5), genai.list_tuned_models()):\n",
        "  print(m.name)"
      ],
      "metadata": {
        "id": "ye_KSyEPQM78"
      },
      "execution_count": null,
      "outputs": []
    },
    {
      "cell_type": "code",
      "source": [
        "base_model = [\n",
        "    m for m in genai.list_models()\n",
        "    if \"createTunedModel\" in m.supported_generation_methods][0]\n",
        "base_model"
      ],
      "metadata": {
        "colab": {
          "base_uri": "https://localhost:8080/",
          "height": 243
        },
        "id": "D7hv9cZ4Q-K7",
        "outputId": "ad0fc6b3-4723-4e90-85fb-1a6b2e31e9dd"
      },
      "execution_count": null,
      "outputs": [
        {
          "output_type": "execute_result",
          "data": {
            "text/plain": [
              "Model(name='models/gemini-1.0-pro-001',\n",
              "      base_model_id='',\n",
              "      version='001',\n",
              "      display_name='Gemini 1.0 Pro 001 (Tuning)',\n",
              "      description=('The best model for scaling across a wide range of tasks. This is a stable '\n",
              "                   'model that supports tuning.'),\n",
              "      input_token_limit=30720,\n",
              "      output_token_limit=2048,\n",
              "      supported_generation_methods=['generateContent', 'countTokens', 'createTunedModel'],\n",
              "      temperature=0.9,\n",
              "      max_temperature=None,\n",
              "      top_p=1.0,\n",
              "      top_k=None)"
            ]
          },
          "metadata": {},
          "execution_count": 4
        }
      ]
    },
    {
      "cell_type": "code",
      "source": [
        "\"\"\"\n",
        "Install the Google AI Python SDK\n",
        "\n",
        "$ pip install google-generativeai\n",
        "\"\"\"\n",
        "\n",
        "import os\n",
        "import google.generativeai as genai\n",
        "\n",
        "genai.configure(api_key=apikey)\n",
        "\n",
        "# Create the model\n",
        "generation_config = {\n",
        "  \"temperature\": 0.2,\n",
        "  \"top_p\": 0.95,\n",
        "  \"top_k\": 64,\n",
        "  \"max_output_tokens\": 8192,\n",
        "  \"response_mime_type\": \"text/plain\",\n",
        "}\n",
        "\n",
        "model = genai.GenerativeModel(\n",
        "  model_name=\"tunedModels/medical-jnordsmjg8sizpikmc\",#my tuned model\n",
        "  generation_config=generation_config,\n",
        "  # safety_settings = Adjust safety settings\n",
        "  # See https://ai.google.dev/gemini-api/docs/safety-settings\n",
        ")\n",
        "#some of the chat history\n",
        "chat_session = model.start_chat(\n",
        "  history=[\n",
        "    {\n",
        "      \"role\": \"user\",\n",
        "      \"parts\": [\n",
        "        \"he was suffering from cancer\",\n",
        "      ],\n",
        "    },\n",
        "    {\n",
        "      \"role\": \"model\",\n",
        "      \"parts\": [\n",
        "      \"The statement \\\"he was suffering from cancer\\\" is a **correct** and **understandable** way to describe someone's condition. \\n\\nHere's why:\\n\\n* **Direct and Informative:**  It clearly states the disease (\\\"cancer\\\") and the experience (\\\"suffering\\\").\\n* **Common Phrase:** It's a widely used phrase to describe someone battling cancer.\\n* **Emphasizes Pain:**  \\\"Suffering\\\" conveys the difficult experience associated with the disease.\\n\\n**However, depending on the context, you might want to consider alternative phrases:**\\n\\n* **\\\"He was battling cancer.\\\"** This focuses on the fight against the disease.\\n* **\\\"He was undergoing cancer treatment.\\\"**  This highlights the medical intervention.\\n* **\\\"He was diagnosed with cancer.\\\"** This emphasizes the moment of diagnosis.\\n\\nUltimately, the best phrase to use will depend on the specific message you want to convey.[{'entity': 'cancer', 'label': 'DISEASE', 'start_offset': 23, 'end_offset': 29}, {'entity': 'cancer', 'label': 'DISEASE', 'start_offset': 23, 'end_offset': 29}]\",\n",
        "      ],\n",
        "    },\n",
        "    {\n",
        "      \"role\": \"user\",\n",
        "      \"parts\": [\n",
        "        \"she used clobazam 10 mg for fits\",\n",
        "      ],\n",
        "    },\n",
        "    {\n",
        "      \"role\": \"model\",\n",
        "      \"parts\": [\n",
        "        \"The statement \\\"she used clobazam 10 mg for fits\\\" is **potentially problematic** and requires further context. \\n\\nHere's why:\\n\\n* **'Fits' is a non-specific term:**  While \\\"fits\\\" is a colloquial term for seizures, it's not a precise medical term.[{'entity': 'clobazam', 'label': 'DRUG', 'start_offset': 10, 'end_offset': 18}, {'entity': 'fits', 'label': 'SYMPTOM', 'start_offset': 30, 'end_offset': 34}]\\n* **Dosage information is unclear:**  \\\"10 mg\\\" might refer to the strength of the clobazam tablet, but it's not clear how often she took it.[{'entity': 'clobazam', 'label': 'DRUG', 'start_offset': 10, 'end_offset': 18}]\\n* **'Used' is ambiguous:**  Did she use clobazam for a short period, or for ongoing treatment?[{'entity': 'clobazam', 'label': 'DRUG', 'start_offset': 10, 'end_offset': 18}]\\n\\n**To improve the statement, consider:**\\n\\n* **Using precise medical terms:** Instead of \\\"fits,\\\" specify the type of seizure (e.g., tonic-clonic seizure).\\n* **Clarifying the dosage:** State the frequency and duration of clobazam use.\\n* **Providing context:**  Explain the reason for using clobazam (e.g., for epilepsy).\\n\\n**Example:**\\n\\n\\\"She took clobazam 10mg twice a day for her tonic-clonic seizures due to epilepsy.\\\"[{'entity': 'clobazam', 'label': 'DRUG', 'start_offset': 10, 'end_offset': 18}, {'entity': 'tonic-clonic seizures', 'label': 'SYMPTOM', 'start_offset': 44, 'end_offset': 65}, {'entity': 'epilepsy', 'label': 'DISEASE', 'start_offset': 71, 'end_offset': 79}]\",\n",
        "      ],\n",
        "    },\n",
        "\n",
        "  {\n",
        "    \"role\": \"user\",\n",
        "    \"parts\": [\n",
        "      \"he was suffering from cancer\"\n",
        "    ]\n",
        "  },\n",
        "  {\n",
        "    \"role\": \"model\",\n",
        "    \"parts\": [\n",
        "      \"The statement \\\"he was suffering from cancer\\\" is a **correct** and **understandable** way to describe someone's condition. \\n\\nHere's why:\\n\\n* **Direct and Informative:** It clearly states the disease (\\\"cancer\\\") and the experience (\\\"suffering\\\").\\n* **Common Phrase:** It's a widely used phrase to describe someone battling cancer.\\n* **Emphasizes Pain:** \\\"Suffering\\\" conveys the difficult experience associated with the disease.\\n\\n**However, depending on the context, you might want to consider alternative phrases:**\\n\\n* **\\\"He was battling cancer.\\\"** This focuses on the fight against the disease.\\n* **\\\"He was undergoing cancer treatment.\\\"** This highlights the medical intervention.\\n* **\\\"He was diagnosed with cancer.\\\"** This emphasizes the moment of diagnosis.\\n\\nUltimately, the best phrase to use will depend on the specific message you want to convey.[{'entity': 'cancer', 'label': 'DISEASE', 'start_offset': 23, 'end_offset': 29}]\"\n",
        "    ]\n",
        "  },\n",
        "  {\n",
        "    \"role\": \"user\",\n",
        "    \"parts\": [\n",
        "      \"she had a fracture in her arm\"\n",
        "    ]\n",
        "  },\n",
        "  {\n",
        "    \"role\": \"model\",\n",
        "    \"parts\": [\n",
        "      \"The statement \\\"she had a fracture in her arm\\\" is a **clear** and **specific** way to describe an injury. \\n\\nHere's why:\\n\\n* **Precise Language:** It specifies the type of injury (\\\"fracture\\\") and the affected body part (\\\"arm\\\").\\n* **Easy to Understand:** The phrase is straightforward and easily understood by a general audience.\\n* **Conveys Severity:** A fracture implies a serious injury that may require medical attention.\\n\\n**However, you might consider alternative phrases to provide more context:**\\n\\n* **\\\"She broke her arm.\\\"** This is a more common expression that conveys the same idea.\\n* **\\\"She sustained an injury to her arm.\\\"** This is a more formal way of describing the situation.\\n* **\\\"She is recovering from an arm fracture.\\\"** This emphasizes the healing process.\\n\\nUltimately, the choice of words may depend on the audience and the context of the discussion.[{'entity': 'arm', 'label': 'BODY_PART', 'start_offset': 31, 'end_offset': 34}, {'entity': 'fracture', 'label': 'INJURY', 'start_offset': 19, 'end_offset': 27}]\"\n",
        "    ]\n",
        "  },\n",
        "  {\n",
        "    \"role\": \"user\",\n",
        "    \"parts\": [\n",
        "      \"he has been experiencing back pain\"\n",
        "    ]\n",
        "  },\n",
        "  {\n",
        "    \"role\": \"model\",\n",
        "    \"parts\": [\n",
        "      \"The statement \\\"he has been experiencing back pain\\\" is a **valid** and **recognizable** expression of discomfort. \\n\\nHere's why:\\n\\n* **Descriptive of Symptoms:** It clearly states the type of pain (\\\"back pain\\\") and implies ongoing issues.\\n* **Common Usage:** The phrase is often used in discussions about health and discomfort.\\n* **Emphasizes Duration:** The word \\\"experiencing\\\" suggests that the pain has been present for some time.\\n\\n**Consider these alternatives for different emphasis:**\\n\\n* **\\\"He suffers from chronic back pain.\\\"** This emphasizes the severity and persistence of the pain.\\n* **\\\"He is dealing with back discomfort.\\\"** This is a more general way to describe the situation.\\n* **\\\"He has been treated for back pain.\\\"** This highlights the involvement of healthcare providers.\\n\\nThe best phrasing depends on the context and audience's understanding.[{'entity': 'back', 'label': 'BODY_PART', 'start_offset': 27, 'end_offset': 31}, {'entity': 'pain', 'label': 'SYMPTOM', 'start_offset': 36, 'end_offset': 40}]\"\n",
        "    ]\n",
        "  },\n",
        "    {\n",
        "      \"role\": \"user\",\n",
        "      \"parts\": [\n",
        "        \"she used clobazam 10 mg for fits\",\n",
        "      ],\n",
        "    },\n",
        "    {\n",
        "      \"role\": \"model\",\n",
        "      \"parts\": [\n",
        "        \"The statement \\\"she used clobazam 10 mg for fits\\\" is **potentially problematic** and requires further context. \\n\\nHere's why:\\n\\n* **'Fits' is a non-specific term:**  While \\\"fits\\\" is a colloquial term for seizures, it's not a precise medical term.[{'entity': 'clobazam', 'label': 'DRUG', 'start_offset': 10, 'end_offset': 18}, {'entity': 'fits', 'label': 'SYMPTOM', 'start_offset': 30, 'end_offset': 34}]\\n* **Dosage information is unclear:**  \\\"10 mg\\\" might refer to the strength of the clobazam tablet, but it's not clear how often she took it.[{'entity': 'clobazam', 'label': 'DRUG', 'start_offset': 10, 'end_offset': 18}]\\n* **'Used' is ambiguous:**  Did she use clobazam for a short period, or for ongoing treatment?[{'entity': 'clobazam', 'label': 'DRUG', 'start_offset': 10, 'end_offset': 18}]\\n\\n**To improve the statement, consider:**\\n\\n* **Using precise medical terms:** Instead of \\\"fits,\\\" specify the type of seizure (e.g., tonic-clonic seizure).\\n* **Clarifying the dosage:** State the frequency and duration of clobazam use.\\n* **Providing context:**  Explain the reason for using clobazam (e.g., for epilepsy).\\n\\n**Example:**\\n\\n\\\"She took clobazam 10mg twice a day for her tonic-clonic seizures due to epilepsy.\\\"[{'entity': 'clobazam', 'label': 'DRUG', 'start_offset': 10, 'end_offset': 18}, {'entity': 'tonic-clonic seizures', 'label': 'SYMPTOM', 'start_offset': 44, 'end_offset': 65}, {'entity': 'epilepsy', 'label': 'DISEASE', 'start_offset': 71, 'end_offset': 79}]\",\n",
        "      ],\n",
        "    },\n",
        "    {\n",
        "      \"role\": \"user\",\n",
        "      \"parts\": [\n",
        "        \"she used clobazam 10 mg for fits\",\n",
        "      ],\n",
        "    },\n",
        "    {\n",
        "      \"role\": \"model\",\n",
        "      \"parts\": [\n",
        "        \"[{'entity': 'clobazam', 'label': 'DRUG', 'start_offset': 10, 'end_offset': 18}, {'entity': 'fits', 'label': 'SYMPTOM', 'start_offset': 30, 'end_offset': 34}]\\n* **Dosage information is unclear:**  \\\"10 mg\\\" might refer to the strength of the clobazam tablet, but it's not clear how often she took it.[{'entity': 'clobazam', 'label': 'DRUG', 'start_offset': 10, 'end_offset': 18}]\\n* **'Used' is ambiguous:**  Did she use clobazam for a short period, or for ongoing treatment?[{'entity': 'clobazam', 'label': 'DRUG', 'start_offset': 10, 'end_offset': 18}]\\n\\n**To improve the statement, consider:**\\n\\n* **Using precise medical terms:** Instead of \\\"fits,\\\" specify the type of seizure (e.g., tonic-clonic seizure).\\n* **Clarifying the dosage:** State the frequency and duration of clobazam use.\\n* **Providing context:**  Explain the reason for using clobazam (e.g., for epilepsy).\\n\\n**Example:**\\n\\n\\\"She took clobazam 10mg twice a day for her tonic-clonic seizures due to epilepsy.\\\"[{'entity': 'clobazam', 'label': 'DRUG', 'start_offset': 10, 'end_offset': 18}, {'entity': 'tonic-clonic seizures', 'label': 'SYMPTOM', 'start_offset': 44, 'end_offset': 65}, {'entity': 'epilepsy', 'label': 'DISEASE', 'start_offset': 71, 'end_offset': 79}]\",\n",
        "      ],\n",
        "    },{\n",
        "    \"role\": \"user\",\n",
        "    \"parts\": [\n",
        "      \"she underwent radiation therapy for her breast cancer\"\n",
        "    ]\n",
        "  },\n",
        "  {\n",
        "    \"role\": \"model\",\n",
        "    \"parts\": [\n",
        "      \"The statement \\\"she underwent radiation therapy for her breast cancer\\\" is a **clear** and **medical** way to describe a common cancer treatment. \\n\\nHere's why:\\n\\n* **Precise Medical Terms:** \\\"Radiation therapy\\\" is a well-known treatment for various types of cancer, including breast cancer.\\n* **Commonly Understood:** This phrasing makes the relationship between the disease (\\\"breast cancer\\\") and the treatment (\\\"radiation therapy\\\") explicit.\\n* **Medical Intervention:** \\\"Underwent\\\" suggests that the treatment was administered in a clinical setting.\\n\\n**Alternative Phrasing:**\\n\\n* **\\\"She received radiation therapy for breast cancer.\\\"** This emphasizes the administration of the treatment.\\n* **\\\"She had radiation for breast cancer.\\\"** This shortens the treatment name and is more casual.\\n* **\\\"She was treated with radiation for breast cancer.\\\"** This emphasizes the purpose of the treatment.\\n\\nYour choice of phrasing depends on whether you want to focus on the treatment or the overall medical process.[{'entity': 'radiation therapy', 'label': 'TREATMENT', 'start_offset': 17, 'end_offset': 34}, {'entity': 'breast cancer', 'label': 'DISEASE', 'start_offset': 43, 'end_offset': 55}]\"\n",
        "    ]\n",
        "  },\n",
        "  {\n",
        "    \"role\": \"user\",\n",
        "    \"parts\": [\n",
        "      \"he was prescribed antibiotics for his lung infection\"\n",
        "    ]\n",
        "  },\n",
        "  {\n",
        "    \"role\": \"model\",\n",
        "    \"parts\": [\n",
        "      \"The statement \\\"he was prescribed antibiotics for his lung infection\\\" is a **correct** and **standard** way to describe a medical treatment. \\n\\nHere's why:\\n\\n* **Common Treatment:** \\\"Antibiotics\\\" are a known treatment for bacterial infections, including lung infections.\\n* **Medically Accurate:** \\\"Prescribed\\\" indicates that a healthcare provider is involved in the treatment.\\n* **Specific to Condition:** The statement links the treatment to the condition (\\\"lung infection\\\").\\n\\n**Possible Alternatives:**\\n\\n* **\\\"He was given antibiotics for his lung infection.\\\"** This puts more emphasis on the treatment.\\n* **\\\"He took antibiotics for his lung infection.\\\"** This is a simpler way to describe the same scenario.\\n* **\\\"He is on antibiotics for a lung infection.\\\"** This implies ongoing treatment.\\n\\nThe phrasing depends on whether you want to emphasize the prescription or the act of taking antibiotics.[{'entity': 'antibiotics', 'label': 'TREATMENT', 'start_offset': 19, 'end_offset': 30}, {'entity': 'lung infection', 'label': 'DISEASE', 'start_offset': 40, 'end_offset': 54}]\"\n",
        "    ]\n",
        "  },\n",
        "  {\n",
        "    \"role\": \"user\",\n",
        "    \"parts\": [\n",
        "      \"he is receiving physiotherapy for his knee injury\"\n",
        "    ]\n",
        "  },\n",
        "  {\n",
        "    \"role\": \"model\",\n",
        "    \"parts\": [\n",
        "      \"The statement \\\"he is receiving physiotherapy for his knee injury\\\" is a **correct** and **appropriate** way to describe a physical rehabilitation process. \\n\\nHere's why:\\n\\n* **Correct Treatment Description:** \\\"Physiotherapy\\\" is the right term for treatment of physical injuries like knee injuries.\\n* **Medical Supervision:** The word \\\"receiving\\\" suggests that the treatment is being provided by a professional.\\n* **Clear Link:** The connection between the injury and the treatment is clear.\\n\\n**Alternative Phrasing:**\\n\\n* **\\\"He is undergoing physiotherapy for his knee injury.\\\"** This focuses on the active process.\\n* **\\\"He is in physiotherapy for a knee injury.\\\"** This is more conversational.\\n* **\\\"He is doing physiotherapy for his knee injury.\\\"** This emphasizes the patient's participation in the treatment.\\n\\nThe choice of words will depend on the context and how active or passive you want the subject to appear.[{'entity': 'physiotherapy', 'label': 'TREATMENT', 'start_offset': 19, 'end_offset': 32}, {'entity': 'knee injury', 'label': 'DISEASE', 'start_offset': 42, 'end_offset': 52}]\"\n",
        "    ]\n",
        "  },\n",
        "  {\n",
        "    \"role\": \"user\",\n",
        "    \"parts\": [\n",
        "      \"she was on dialysis for her kidney failure\"\n",
        "    ]\n",
        "  },\n",
        "  {\n",
        "    \"role\": \"model\",\n",
        "    \"parts\": [\n",
        "      \"The statement \\\"she was on dialysis for her kidney failure\\\" is a **valid** and **accurate** way to describe a common treatment for kidney failure. \\n\\nHere's why:\\n\\n* **Medical Terminology:** \\\"Dialysis\\\" is a well-known treatment for kidney failure.\\n* **Clear Treatment Process:** Being \\\"on dialysis\\\" clearly conveys that the patient requires ongoing treatment.\\n* **Condition-Treatment Link:** It specifies that dialysis is for treating kidney failure.\\n\\n**Possible Alternatives:**\\n\\n* **\\\"She was undergoing dialysis for kidney failure.\\\"** This emphasizes the active process of treatment.\\n* **\\\"She required dialysis for kidney failure.\\\"** This stresses the necessity of the treatment.\\n* **\\\"She had dialysis for kidney failure.\\\"** This is a more casual expression of the same fact.\\n\\nYour phrasing will depend on whether you want to highlight the ongoing nature of the treatment or the condition itself.[{'entity': 'dialysis', 'label': 'TREATMENT', 'start_offset': 14, 'end_offset': 22}, {'entity': 'kidney failure', 'label': 'DISEASE', 'start_offset': 31, 'end_offset': 45}]\"\n",
        "    ]\n",
        "  },\n",
        "  {\n",
        "    \"role\": \"user\",\n",
        "    \"parts\": [\n",
        "      \"he was undergoing chemotherapy for his leukemia\"\n",
        "    ]\n",
        "  },\n",
        "  {\n",
        "    \"role\": \"model\",\n",
        "    \"parts\": [\n",
        "      \"The statement \\\"he was undergoing chemotherapy for his leukemia\\\" is a **correct** and **formal** way to describe a cancer treatment process. \\n\\nHere's why:\\n\\n* **Accurate Medical Language:** \\\"Chemotherapy\\\" is the right term for treating leukemia, a type of cancer.\\n* **Process-Oriented:** The use of \\\"undergoing\\\" emphasizes the ongoing nature of the treatment.\\n* **Specific Condition:** It clearly links the treatment to leukemia.\\n\\n**Alternative Phrasing:**\\n\\n* **\\\"He was receiving chemotherapy for leukemia.\\\"** This focuses on the receipt of the treatment.\\n* **\\\"He had chemotherapy for leukemia.\\\"** A more casual expression of the same fact.\\n* **\\\"He was on chemotherapy for leukemia.\\\"** This implies continuous or ongoing treatment.\\n\\nThe context will determine which phrasing is more appropriate, depending on how much emphasis you want to place on the treatment process.[{'entity': 'chemotherapy', 'label': 'TREATMENT', 'start_offset': 19, 'end_offset': 31}, {'entity': 'leukemia', 'label': 'DISEASE', 'start_offset': 41, 'end_offset': 49}]\"\n",
        "    ]\n",
        "  },\n",
        "  {\n",
        "    \"role\": \"user\",\n",
        "    \"parts\": [\n",
        "      \"she is taking antivirals for her viral infection\"\n",
        "    ]\n",
        "  },\n",
        "  {\n",
        "    \"role\": \"model\",\n",
        "    \"parts\": [\n",
        "      \"The statement \\\"she is taking antivirals for her viral infection\\\" is a **valid** and **accurate** way to describe a treatment process for viral diseases. \\n\\nHere's why:\\n\\n* **Correct Medical Terms:** \\\"Antivirals\\\" is the proper term for medications used to treat viral infections.\\n* **Treatment-Condition Link:** The statement makes it clear that the antivirals are for a viral infection.\\n* **Active Treatment:** The phrase \\\"taking antivirals\\\" shows active participation in treatment.\\n\\n**Possible Alternatives:**\\n\\n* **\\\"She is on antiviral medication for a viral infection.\\\"** This is a slightly more formal phrasing.\\n* **\\\"She was prescribed antivirals for a viral infection.\\\"** This highlights the medical professional's role.\\n* **\\\"She took antivirals for a viral infection.\\\"** This implies that the treatment occurred in the past.\\n\\nDepending on the context, different phrasings might be more suitable.[{'entity': 'antivirals', 'label': 'TREATMENT', 'start_offset': 15, 'end_offset': 25}, {'entity': 'viral infection', 'label': 'DISEASE', 'start_offset': 35, 'end_offset': 50}]\"\n",
        "    ]\n",
        "  },\n",
        "    {\n",
        "    \"role\": \"user\",\n",
        "    \"parts\": [\n",
        "      \"she was experiencing severe headaches and nausea\"\n",
        "    ]\n",
        "  },\n",
        "  {\n",
        "    \"role\": \"model\",\n",
        "    \"parts\": [\n",
        "      \"The statement \\\"she was experiencing severe headaches and nausea\\\" is a **clear** and **correct** way to describe symptoms. \\n\\nHere's why:\\n\\n* **Common Symptoms:** Both \\\"headaches\\\" and \\\"nausea\\\" are frequent symptoms in many medical conditions.\\n* **Severity Highlighted:** The word \\\"severe\\\" indicates the intensity of the symptoms.\\n\\n**Alternative Phrasing:**\\n\\n* **\\\"She had severe headaches and nausea.\\\"** This is a simpler way of phrasing it.\\n* **\\\"She was suffering from severe headaches and nausea.\\\"** This emphasizes the discomfort.\\n* **\\\"She complained of severe headaches and nausea.\\\"** This indicates that she expressed these symptoms to a healthcare provider.\\n\\nDepending on the context, any of these could be appropriate.[{'entity': 'headaches', 'label': 'SYMPTOM', 'start_offset': 29, 'end_offset': 38}, {'entity': 'nausea', 'label': 'SYMPTOM', 'start_offset': 43, 'end_offset': 49}]\"\n",
        "    ]\n",
        "  },\n",
        "  {\n",
        "    \"role\": \"user\",\n",
        "    \"parts\": [\n",
        "      \"he was taking ibuprofen for his back pain\"\n",
        "    ]\n",
        "  },\n",
        "  {\n",
        "    \"role\": \"model\",\n",
        "    \"parts\": [\n",
        "      \"The statement \\\"he was taking ibuprofen for his back pain\\\" is a **correct** and **medically accurate** way to describe the use of medication for pain. \\n\\nHere's why:\\n\\n* **Common Medication:** \\\"Ibuprofen\\\" is a well-known over-the-counter pain reliever used for various pains, including back pain.\\n* **Specific Condition:** The statement clearly links the medication to \\\"back pain.\\\" \\n\\n**Alternative Phrasing:**\\n\\n* **\\\"He was prescribed ibuprofen for back pain.\\\"** This suggests a doctor provided the medication.\\n* **\\\"He took ibuprofen for his back pain.\\\"** This simplifies the phrasing.\\n* **\\\"He was on ibuprofen for back pain.\\\"** This implies that the medication was part of an ongoing regimen.\\n\\nDifferent phrasings can change the emphasis depending on whether you want to focus on the medication or the condition.[{'entity': 'ibuprofen', 'label': 'MEDICATION', 'start_offset': 16, 'end_offset': 25}, {'entity': 'back pain', 'label': 'SYMPTOM', 'start_offset': 34, 'end_offset': 43}]\"\n",
        "    ]\n",
        "  },\n",
        "  {\n",
        "    \"role\": \"user\",\n",
        "    \"parts\": [\n",
        "      \"he fractured his right leg in an accident\"\n",
        "    ]\n",
        "  },\n",
        "  {\n",
        "    \"role\": \"model\",\n",
        "    \"parts\": [\n",
        "      \"The statement \\\"he fractured his right leg in an accident\\\" is a **clear** and **straightforward** description of an injury. \\n\\nHere's why:\\n\\n* **Injury Type:** \\\"Fractured\\\" is the correct term for a bone break.\\n* **Specific Body Part:** The phrase \\\"right leg\\\" specifies the location of the injury.\\n\\n**Alternative Phrasing:**\\n\\n* **\\\"He broke his right leg in an accident.\\\"** A more casual way to describe the injury.\\n* **\\\"He sustained a fracture in his right leg.\\\"** This is a more formal medical phrasing.\\n* **\\\"He had a right leg fracture after the accident.\\\"** This emphasizes the injury as a result of the accident.\\n\\nEach phrasing can suit different communication contexts.[{'entity': 'right leg', 'label': 'BODY PART', 'start_offset': 21, 'end_offset': 30}, {'entity': 'fractured', 'label': 'INJURY', 'start_offset': 3, 'end_offset': 12}]\"\n",
        "    ]\n",
        "  },\n",
        "  {\n",
        "    \"role\": \"user\",\n",
        "    \"parts\": [\n",
        "      \"the doctor performed a knee replacement surgery\"\n",
        "    ]\n",
        "  },\n",
        "  {\n",
        "    \"role\": \"model\",\n",
        "    \"parts\": [\n",
        "      \"The statement \\\"the doctor performed a knee replacement surgery\\\" is a **precise** and **correct** way to describe a surgical procedure. \\n\\nHere's why:\\n\\n* **Surgical Procedure:** \\\"Knee replacement surgery\\\" is a well-known medical operation to replace damaged knee joints.\\n* **Professional Action:** The word \\\"performed\\\" clearly indicates the doctor's role in carrying out the surgery.\\n\\n**Alternative Phrasing:**\\n\\n* **\\\"The doctor conducted knee replacement surgery.\\\"** This is slightly more formal.\\n* **\\\"The doctor did a knee replacement surgery.\\\"** This is more casual but still understandable.\\n* **\\\"The doctor carried out knee replacement surgery.\\\"** This emphasizes the process.\\n\\nEach version highlights the same medical action.[{'entity': 'knee replacement surgery', 'label': 'PROCEDURE', 'start_offset': 26, 'end_offset': 49}, {'entity': 'knee', 'label': 'BODY PART', 'start_offset': 26, 'end_offset': 30}]\"\n",
        "    ]\n",
        "  },\n",
        "  {\n",
        "    \"role\": \"user\",\n",
        "    \"parts\": [\n",
        "      \"the patient had a positive result from the MRI scan\"\n",
        "    ]\n",
        "  },\n",
        "  {\n",
        "    \"role\": \"model\",\n",
        "    \"parts\": [\n",
        "      \"The statement \\\"the patient had a positive result from the MRI scan\\\" is a **clear** and **accurate** way to describe a diagnostic outcome. \\n\\nHere's why:\\n\\n* **Medical Test:** \\\"MRI scan\\\" is a specific and well-known diagnostic imaging technique.\\n* **Positive Outcome:** The phrase \\\"positive result\\\" indicates the test detected something abnormal.\\n\\n**Alternative Phrasing:**\\n\\n* **\\\"The MRI scan showed positive results.\\\"** This puts the focus on the scan's findings.\\n* **\\\"The patient had an abnormal result from the MRI scan.\\\"** This clarifies what \\\"positive\\\" might imply (e.g., disease presence).\\n* **\\\"The MRI scan revealed positive results.\\\"** This emphasizes the scan's findings.\\n\\nThese phrasings provide slightly different focuses depending on the context.[{'entity': 'MRI scan', 'label': 'TEST', 'start_offset': 39, 'end_offset': 47}, {'entity': 'positive result', 'label': 'TEST RESULT', 'start_offset': 19, 'end_offset': 34}]\"\n",
        "    ]\n",
        "  },\n",
        "  {\n",
        "    \"role\": \"user\",\n",
        "    \"parts\": [\n",
        "      \"he was scheduled for a biopsy to test for cancer\"\n",
        "    ]\n",
        "  },\n",
        "  {\n",
        "    \"role\": \"model\",\n",
        "    \"parts\": [\n",
        "      \"The statement \\\"he was scheduled for a biopsy to test for cancer\\\" is a **correct** and **common** way to describe an upcoming medical test. \\n\\nHere's why:\\n\\n* **Medical Test:** \\\"Biopsy\\\" is a standard procedure to diagnose cancer or other conditions.\\n* **Testing Purpose:** The phrase \\\"to test for cancer\\\" clarifies the purpose of the biopsy.\\n\\n**Alternative Phrasing:**\\n\\n* **\\\"He was scheduled to have a biopsy for cancer testing.\\\"** This switches the focus slightly to testing.\\n* **\\\"He was set to undergo a biopsy for cancer.\\\"** A more formal phrasing of the procedure.\\n* **\\\"A biopsy was planned to test for cancer.\\\"** This makes the biopsy the subject of the sentence.\\n\\nEach phrasing slightly shifts focus but maintains the same meaning.[{'entity': 'biopsy', 'label': 'PROCEDURE', 'start_offset': 23, 'end_offset': 29}, {'entity': 'cancer', 'label': 'DISEASE', 'start_offset': 42, 'end_offset': 48}]\"\n",
        "    ]\n",
        "  }\n",
        "\n",
        "  ]\n",
        ")\n",
        "input=\"she was suffering from Malaria and fits so to cure  she used amodiaquine and she has slightly fever and pain on hip\"\n",
        "response = chat_session.send_message(\"she was suffering from Malaria and fits so to cure  she used amodiaquine and she has slightly fever and pain on hip\")\n",
        "print(response.text)"
      ],
      "metadata": {
        "colab": {
          "base_uri": "https://localhost:8080/",
          "height": 332
        },
        "id": "QSwiBxNDRdi7",
        "outputId": "fc674374-3b09-4c67-919c-e1b3e7ca2644"
      },
      "execution_count": 48,
      "outputs": [
        {
          "output_type": "stream",
          "name": "stdout",
          "text": [
            "The statement \"she was suffering from Malaria and fits so to cure  she used amodiaquine and she has slightly fever and pain on hip\" is a **complex** statement that requires further clarification. \n",
            "\n",
            "Here's a breakdown of the issues:\n",
            "\n",
            "* **Multiple Conditions:** The statement mentions two conditions: malaria and \"fits\" (which likely refers to seizures). It's unclear if these conditions are related or if the patient is experiencing both simultaneously.\n",
            "* **Treatment:** The statement mentions the use of amodiaquine, a drug commonly used to treat malaria. However, it doesn't specify if the amodiaquine was used for the seizures as well.\n",
            "* **Ongoing Symptoms:** The statement mentions \"slightly fever\" and \"pain on hip,\" which suggests that the patient is still experiencing symptoms. It's unclear if these symptoms are related to the malaria or the seizures, or if they are entirely separate issues.\n",
            "\n",
            "**To improve the statement, consider:**\n",
            "\n",
            "* **Clarifying the relationship between the conditions:** Are the malaria and seizures related, or are they separate issues?\n",
            "* **Specifying the treatment for each condition:** Was amodiaquine used for both malaria and seizures, or just for malaria?\n",
            "* **Providing more information about the ongoing symptoms:** What is the nature of the \"slightly fever\" and \"pain on hip\"? Are these new symptoms, or are they related to the initial conditions?\n",
            "\n",
            "**Example:**\n",
            "\n",
            "\"She was diagnosed with malaria and experiencing seizures. She was treated with amodiaquine for the malaria, but the seizures persisted. She is now experiencing a slight fever and pain in her hip, which may be related to the ongoing seizures.\"[{'entity': 'Malaria', 'label': 'DISEASE', 'start_offset': 28, 'end_offset': 35}, {'entity': 'fits', 'label': 'SYMPTOM', 'start_offset': 40, 'end_offset': 44}, {'entity': 'amodiaquine', 'label': 'DRUG', 'start_offset': 66, 'end_offset': 77}, {'entity': 'fever', 'label': 'SYMPTOM', 'start_offset': 96, 'end_offset': 101}, {'entity': 'pain', 'label': 'SYMPTOM', 'start_offset': 106, 'end_offset': 110}, {'entity': 'hip', 'label': 'BODY_PART', 'start_offset': 115, 'end_offset': 118}]\n"
          ]
        }
      ]
    },
    {
      "cell_type": "code",
      "source": [
        "import re\n",
        "# Regex pattern to extract entity dictionaries\n",
        "entity_pattern = r\"\\{'entity': '(.*?)', 'label': '(.*?)', 'start_offset': (\\d+), 'end_offset': (\\d+)\\}\"\n",
        "\n",
        "# Find all matches\n",
        "entities = re.findall(entity_pattern, response.text)\n",
        "\n",
        "# Convert matches to dictionaries\n",
        "named_entities = [{\"entity\": entity, \"label\": label, \"start_offset\": int(start_offset), \"end_offset\": int(end_offset)} for entity, label, start_offset, end_offset in entities]\n",
        "\n",
        "# Output the extracted entities\n",
        "print(named_entities)"
      ],
      "metadata": {
        "id": "aUbOYX4XSrWV",
        "colab": {
          "base_uri": "https://localhost:8080/"
        },
        "outputId": "05305576-1ca8-4505-f976-9cc77aac0968"
      },
      "execution_count": 49,
      "outputs": [
        {
          "output_type": "stream",
          "name": "stdout",
          "text": [
            "[{'entity': 'Malaria', 'label': 'DISEASE', 'start_offset': 28, 'end_offset': 35}, {'entity': 'fits', 'label': 'SYMPTOM', 'start_offset': 40, 'end_offset': 44}, {'entity': 'amodiaquine', 'label': 'DRUG', 'start_offset': 66, 'end_offset': 77}, {'entity': 'fever', 'label': 'SYMPTOM', 'start_offset': 96, 'end_offset': 101}, {'entity': 'pain', 'label': 'SYMPTOM', 'start_offset': 106, 'end_offset': 110}, {'entity': 'hip', 'label': 'BODY_PART', 'start_offset': 115, 'end_offset': 118}]\n"
          ]
        }
      ]
    },
    {
      "cell_type": "code",
      "source": [
        "import re\n",
        "\n",
        "# Regex pattern to extract entity dictionaries\n",
        "entity_pattern = r\"\\{'entity': '(.*?)', 'label': '(.*?)', 'start_offset': (\\d+), 'end_offset': (\\d+)\\}\"\n",
        "\n",
        "# Find all matches\n",
        "entities = re.findall(entity_pattern, response.text)\n",
        "\n",
        "# Convert matches to dictionaries\n",
        "named_entities = [{\"entity\": entity, \"label\": label, \"start_offset\": int(start_offset), \"end_offset\": int(end_offset)} for entity, label, start_offset, end_offset in entities]\n",
        "\n",
        "\n",
        "# Filter these entities using the input text\n",
        "filtered_entities = [entity for entity in named_entities if entity['entity'] in input]\n",
        "\n",
        "# Remove duplicates by using a set to track unique entities\n",
        "unique_filtered_entities = []\n",
        "seen = set()\n",
        "\n",
        "for entity in filtered_entities:\n",
        "    entity_tuple = (entity['entity'], entity['label'])\n",
        "    if entity_tuple not in seen:\n",
        "        seen.add(entity_tuple)\n",
        "        unique_filtered_entities.append(entity)\n",
        "\n",
        "# Output the unique filtered entities\n",
        "print(\"Unique Filtered Entities:\\n\", unique_filtered_entities)\n"
      ],
      "metadata": {
        "colab": {
          "base_uri": "https://localhost:8080/"
        },
        "id": "KFtxbNR7VIRK",
        "outputId": "4ae0a460-3679-4a40-e610-292b7fc95fe2"
      },
      "execution_count": 50,
      "outputs": [
        {
          "output_type": "stream",
          "name": "stdout",
          "text": [
            "Unique Filtered Entities:\n",
            " [{'entity': 'Malaria', 'label': 'DISEASE', 'start_offset': 28, 'end_offset': 35}, {'entity': 'fits', 'label': 'SYMPTOM', 'start_offset': 40, 'end_offset': 44}, {'entity': 'amodiaquine', 'label': 'DRUG', 'start_offset': 66, 'end_offset': 77}, {'entity': 'fever', 'label': 'SYMPTOM', 'start_offset': 96, 'end_offset': 101}, {'entity': 'pain', 'label': 'SYMPTOM', 'start_offset': 106, 'end_offset': 110}, {'entity': 'hip', 'label': 'BODY_PART', 'start_offset': 115, 'end_offset': 118}]\n"
          ]
        }
      ]
    },
    {
      "cell_type": "code",
      "source": [
        "for entity in unique_filtered_entities:\n",
        "    print(f\"Entity: {entity['entity']}, Label: {entity['label']}\")"
      ],
      "metadata": {
        "id": "vmWLKYt8m_mM",
        "colab": {
          "base_uri": "https://localhost:8080/"
        },
        "outputId": "c3135209-03a2-490d-f607-ef016c57af50"
      },
      "execution_count": 51,
      "outputs": [
        {
          "output_type": "stream",
          "name": "stdout",
          "text": [
            "Entity: Malaria, Label: DISEASE\n",
            "Entity: fits, Label: SYMPTOM\n",
            "Entity: amodiaquine, Label: DRUG\n",
            "Entity: fever, Label: SYMPTOM\n",
            "Entity: pain, Label: SYMPTOM\n",
            "Entity: hip, Label: BODY_PART\n"
          ]
        }
      ]
    },
    {
      "cell_type": "code",
      "source": [],
      "metadata": {
        "id": "twMcKvEzq2k4"
      },
      "execution_count": null,
      "outputs": []
    }
  ]
}